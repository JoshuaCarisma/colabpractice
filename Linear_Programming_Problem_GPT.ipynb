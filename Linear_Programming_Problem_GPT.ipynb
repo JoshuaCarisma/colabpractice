{
  "nbformat": 4,
  "nbformat_minor": 0,
  "metadata": {
    "colab": {
      "provenance": [],
      "authorship_tag": "ABX9TyP0VPnBtyNgHV12PZHTirL2",
      "include_colab_link": true
    },
    "kernelspec": {
      "name": "python3",
      "display_name": "Python 3"
    },
    "language_info": {
      "name": "python"
    }
  },
  "cells": [
    {
      "cell_type": "markdown",
      "metadata": {
        "id": "view-in-github",
        "colab_type": "text"
      },
      "source": [
        "<a href=\"https://colab.research.google.com/github/JoshuaCarisma/colabpractice/blob/main/Linear_Programming_Problem_GPT.ipynb\" target=\"_parent\"><img src=\"https://colab.research.google.com/assets/colab-badge.svg\" alt=\"Open In Colab\"/></a>"
      ]
    },
    {
      "cell_type": "code",
      "execution_count": 1,
      "metadata": {
        "colab": {
          "base_uri": "https://localhost:8080/"
        },
        "id": "CcdoazUp1T5X",
        "outputId": "ef3d4a8e-6720-4096-f187-7ef7cdf281c9"
      },
      "outputs": [
        {
          "output_type": "stream",
          "name": "stdout",
          "text": [
            "Requirement already satisfied: scipy in /usr/local/lib/python3.10/dist-packages (1.11.4)\n",
            "Requirement already satisfied: numpy<1.28.0,>=1.21.6 in /usr/local/lib/python3.10/dist-packages (from scipy) (1.25.2)\n"
          ]
        }
      ],
      "source": [
        "!pip install scipy"
      ]
    },
    {
      "cell_type": "markdown",
      "source": [
        "# Simple Two Variable Linear Programming"
      ],
      "metadata": {
        "id": "fUBmLmQsB8Be"
      }
    },
    {
      "cell_type": "markdown",
      "source": [
        "Profit per unit: Product A makes $30, and Product B makes $50.\n",
        "\n",
        "Labor required per unit: Product A requires three hours, and Product B requires two hours.\n",
        "\n",
        "Material required per unit: Product A uses four units of material, and Product B uses six units.\n",
        "\n",
        "Total available labor: 18 hours.\n",
        "\n",
        "Total available material: 24 units.\n",
        "*************************************\n",
        "\n",
        "Objective: Maximize profit = $30A + $50B\n",
        "\n",
        "\n",
        "Constraints:\n",
        "\n",
        "Labor:\n",
        "3\n",
        "𝐴\n",
        "+\n",
        "2\n",
        "𝐵\n",
        "≤\n",
        "18\n",
        "3A+2B≤18 hours.\n",
        "\n",
        "Material:\n",
        "4\n",
        "𝐴\n",
        "+\n",
        "6\n",
        "𝐵\n",
        "≤\n",
        "24\n",
        "4A+6B≤24 units.\n",
        "\n",
        "Non-negativity:\n",
        "𝐴\n",
        ",\n",
        "𝐵\n",
        "≥\n",
        "0\n",
        "A,B≥0 (You can't produce negative quantities)."
      ],
      "metadata": {
        "id": "keV7tPOp1n7S"
      }
    },
    {
      "cell_type": "code",
      "source": [
        "from scipy.optimize import linprog\n",
        "\n",
        "# Coefficients of the objective function (negative because linprog does minimization)\n",
        "c = [-30, -50]  # Maximize profit: -1 * (30A + 50B)\n",
        "\n",
        "# Coefficients of the inequality constraints\n",
        "A = [[3, 2],  # Labor constraints: 3A + 2B\n",
        "     [4, 6]]  # Material constraints: 4A + 6B\n",
        "\n",
        "# Right-hand side of the inequality constraints\n",
        "b = [18, 24]  # Total available labor and materials\n",
        "\n",
        "# Bounds for each variable\n",
        "x0_bounds = (0, None)  # Product A cannot be negative\n",
        "x1_bounds = (0, None)  # Product B cannot be negative\n",
        "\n",
        "# Solve the problem\n",
        "res = linprog(c, A_ub=A, b_ub=b, bounds=[x0_bounds, x1_bounds], method='simplex')\n",
        "\n",
        "print(\"Optimal value:\", -res.fun, \"with A and B:\", res.x)\n"
      ],
      "metadata": {
        "colab": {
          "base_uri": "https://localhost:8080/"
        },
        "id": "se2FkPZY1Xzp",
        "outputId": "5105e033-fe23-4f45-c860-0204745e882d"
      },
      "execution_count": 2,
      "outputs": [
        {
          "output_type": "stream",
          "name": "stdout",
          "text": [
            "Optimal value: 199.99999999999997 with A and B: [0. 4.]\n"
          ]
        },
        {
          "output_type": "stream",
          "name": "stderr",
          "text": [
            "<ipython-input-2-3648084dd75b>:18: DeprecationWarning: `method='simplex'` is deprecated and will be removed in SciPy 1.11.0. Please use one of the HiGHS solvers (e.g. `method='highs'`) in new code.\n",
            "  res = linprog(c, A_ub=A, b_ub=b, bounds=[x0_bounds, x1_bounds], method='simplex')\n"
          ]
        }
      ]
    },
    {
      "cell_type": "markdown",
      "source": [
        "Problem 1: Product Mix\n",
        "\n",
        "Objective: Maximize profit from two products, X and Y.\n",
        "\n",
        "Profit per unit of X: $20\n",
        "\n",
        "Profit per unit of Y: $30\n",
        "****************\n",
        "\n",
        "Constraints:\n",
        "\n",
        "Material A: 1 unit of X and 2 units of Y; total available: 100 units.\n",
        "\n",
        "Material B: 3 units of X and 1 unit of Y; total available: 90 units.\n",
        "\n",
        "Non-negativity constraints for X and Y.\n",
        "**********************\n",
        "Optimal Solution: Profit = $1,200 with X = 24 units and Y = 38 units."
      ],
      "metadata": {
        "id": "71Whw0TL2WgQ"
      }
    },
    {
      "cell_type": "code",
      "source": [
        "from scipy.optimize import linprog\n",
        "\n",
        "# Coefficients of the objective function (negative because linprog does minimization)\n",
        "c = [-20, -30]  # Maximize profit: -1 * (20A + 30B)\n",
        "\n",
        "# Coefficients of the inequality constraints\n",
        "A = [[1, 2],  # Material A constraints: 1A + 2B <=100\n",
        "     [3, 1]]  # Material B constraints: 3A + 1B <=90\n",
        "\n",
        "# Right-hand side of the inequality constraints\n",
        "b = [100, 90]  # Total available labor and materials\n",
        "\n",
        "# Bounds for each variable\n",
        "x0_bounds = (0, None)  # Product A cannot be negative\n",
        "x1_bounds = (0, None)  # Product B cannot be negative\n",
        "\n",
        "# Solve the problem\n",
        "res = linprog(c, A_ub=A, b_ub=b, bounds=[x0_bounds, x1_bounds], method='highs')\n",
        "\n",
        "print(\"Optimal value:\", -res.fun, \"with A and B:\", res.x)\n"
      ],
      "metadata": {
        "colab": {
          "base_uri": "https://localhost:8080/"
        },
        "id": "EvxY3cM62qZK",
        "outputId": "28e2f647-75f6-48a0-8f98-b6082050c374"
      },
      "execution_count": 10,
      "outputs": [
        {
          "output_type": "stream",
          "name": "stdout",
          "text": [
            "Optimal value: 1580.0 with A and B: [16. 42.]\n"
          ]
        }
      ]
    },
    {
      "cell_type": "markdown",
      "source": [
        "Problem 2:\n",
        "Diet Problem\n",
        "************\n",
        "Objective: Minimize cost of a diet consisting of two foods, A and B.\n",
        "\n",
        "Cost per unit of Food A: $0.50\n",
        "\n",
        "Cost per unit of Food B: $0.30\n",
        "******************\n",
        "\n",
        "Constraints:\n",
        "\n",
        "Minimum calorie requirement: 10 calories from Food A and 30 calories from Food B; total minimum required: 210 calories.\n",
        "\n",
        "Minimum protein requirement: 8g from Food A and 12g from Food B; total minimum required: 180g.\n",
        "\n",
        "Non-negativity constraints for Food A and Food B.\n",
        "****************\n",
        "\n",
        "Optimal Solution: Cost = $6.00 with Food A = 15 units and Food B = 10 units."
      ],
      "metadata": {
        "id": "mvMixGak5xiR"
      }
    },
    {
      "cell_type": "code",
      "source": [
        "from scipy.optimize import linprog\n",
        "\n",
        "# Coefficients of the objective function (linprog does minimization automatically)\n",
        "c = [0.5, 0.3]  # Minimize cost: (0.5A + 0.3B)\n",
        "\n",
        "# Coefficients of the inequality constraints (negate coefficients for minimization)\n",
        "A = [[-10, -30],  # Min calorie constraint: 10A + 30B >=210\n",
        "     [-8, -12]]  # Min protein constraints: 8A + 12B >=180\n",
        "\n",
        "# Right-hand side of the inequality constraints\n",
        "b = [-210, -180]  # Total available labor and materials\n",
        "\n",
        "# Bounds for each variable\n",
        "x0_bounds = (0, None)  # Product A cannot be negative\n",
        "x1_bounds = (0, None)  # Product B cannot be negative\n",
        "\n",
        "# Solve the problem\n",
        "res = linprog(c, A_ub=A, b_ub=b, bounds=[x0_bounds, x1_bounds], method='highs')\n",
        "\n",
        "print(\"Optimal value:\", res.fun, \"with A and B:\", res.x) # res.fun stays positive because it already minimizes\n"
      ],
      "metadata": {
        "colab": {
          "base_uri": "https://localhost:8080/"
        },
        "id": "0ehqvj3u5-sM",
        "outputId": "bd947da5-f72e-42bc-b3c5-6863c066de79"
      },
      "execution_count": 17,
      "outputs": [
        {
          "output_type": "stream",
          "name": "stdout",
          "text": [
            "Optimal value: 4.5 with A and B: [ 0. 15.]\n"
          ]
        }
      ]
    },
    {
      "cell_type": "markdown",
      "source": [
        "Problem 3: Manufacturing\n",
        "************\n",
        "Objective: Maximize production output of two machines, Machine 1 and Machine 2.\n",
        "\n",
        "Output per hour of Machine 1: 4 units\n",
        "\n",
        "Output per hour of Machine 2: 6 units\n",
        "\n",
        "****************\n",
        "Constraints:\n",
        "\n",
        "Labor hours: Machine 1 requires 3 hours, Machine 2 requires 2 hours; total available: 18 hours.\n",
        "\n",
        "Material supply: Machine 1 uses 2 units, Machine 2 uses 4 units; total available: 16 units.\n",
        "\n",
        "Non-negativity constraints for Machine 1 and Machine 2.\n",
        "\n",
        "************\n",
        "Optimal Solution: Output = 48 units with Machine 1 = 4 hours and Machine 2 = 6 hours."
      ],
      "metadata": {
        "id": "0YUvErka8a2I"
      }
    },
    {
      "cell_type": "code",
      "source": [
        "from scipy.optimize import linprog\n",
        "\n",
        "# Coefficients of the objective function (negative because linprog does minimization)\n",
        "c = [-4, -6]  # Maximize output: -1 * (4A + 6B)\n",
        "\n",
        "# Coefficients of the inequality constraints (negate coefficients for minimization)\n",
        "A = [[3, 2],  # Labor hours constraint: 3A + 2B <=18\n",
        "     [2, 4]]  # Matterial supply constraints: 2A + 4B <=16\n",
        "\n",
        "# Right-hand side of the inequality constraints\n",
        "b = [18, 16]  # Total available labor and materials\n",
        "\n",
        "# Bounds for each variable\n",
        "x0_bounds = (0, None)  # Machine 1 cannot be negative\n",
        "x1_bounds = (0, None)  # Machine 2 cannot be negative\n",
        "\n",
        "# Solve the problem\n",
        "res = linprog(c, A_ub=A, b_ub=b, bounds=[x0_bounds, x1_bounds], method='highs')\n",
        "\n",
        "print(\"Optimal value:\", -res.fun, \"with A and B:\", res.x)\n"
      ],
      "metadata": {
        "colab": {
          "base_uri": "https://localhost:8080/"
        },
        "id": "E0fdnpgL8nMJ",
        "outputId": "f12f1285-222c-4256-ea59-89e1d55215f8"
      },
      "execution_count": 21,
      "outputs": [
        {
          "output_type": "stream",
          "name": "stdout",
          "text": [
            "Optimal value: 29.0 with A and B: [5.  1.5]\n"
          ]
        }
      ]
    },
    {
      "cell_type": "markdown",
      "source": [
        "Problem 4: Production Optimization\n",
        "\n",
        "**********\n",
        "Objective: Minimize production costs for two products, Product C and Product D.\n",
        "\n",
        "Cost per unit of Product C: $40\n",
        "\n",
        "Cost per unit of Product D: $50\n",
        "\n",
        "**********\n",
        "Constraints:\n",
        "\n",
        "Material Constraints:\n",
        "\n",
        "Material X: Each unit of Product C requires 3 units of Material X, and each unit of Product D requires 2 units. A total of 120 units of Material X are available.\n",
        "\n",
        "Material Y: Each unit of Product C requires 2 units of Material Y, and each unit of Product D requires 5 units. A total of 160 units of Material Y are available.\n",
        "\n",
        "Minimum Production Requirements:\n",
        "\n",
        "At least 20 units of Product C must be produced.\n",
        "\n",
        "At least 15 units of Product D must be produced.\n",
        "\n",
        "************\n",
        "Setup the Problem for linprog:\n",
        "\n",
        "Objective Function: You want to minimize costs, so you will directly use the cost coefficients as they are positive values which reflect a minimization scenario.\n",
        "\n",
        "Constraints:\n",
        "\n",
        "Material X:\n",
        "3\n",
        "𝐶\n",
        "+\n",
        "2\n",
        "𝐷\n",
        "≤\n",
        "120\n",
        "3C+2D≤120\n",
        "\n",
        "Material Y:\n",
        "2\n",
        "𝐶\n",
        "+\n",
        "5\n",
        "𝐷\n",
        "≤\n",
        "160\n",
        "2C+5D≤160\n",
        "\n",
        "Minimum production of C:\n",
        "𝐶\n",
        "≥\n",
        "20\n",
        "C≥20\n",
        "\n",
        "Minimum production of D:\n",
        "𝐷\n",
        "≥\n",
        "20\n",
        "D≥20"
      ],
      "metadata": {
        "id": "aM1whB_TAusC"
      }
    },
    {
      "cell_type": "code",
      "source": [
        "from scipy.optimize import linprog\n",
        "\n",
        "# Coefficients of the objective function for minimization\n",
        "c = [40, 50]  # Cost minimization: 40C + 50D\n",
        "\n",
        "# Coefficients of the inequality constraints\n",
        "A = [[3, 2],  # Material X constraint: 3C + 2D <= 120\n",
        "     [2, 5],  # Material Y constraint: 2C + 5D <= 160\n",
        "     [-1, 0],  # Minimum production of C: C >= 20\n",
        "     [0, -1]]  # Minimum production of D: D >= 15\n",
        "\n",
        "# Right-hand side of the inequality constraints\n",
        "b = [120, 160, -20, -15]  # Total available materials and minimum production reversed for C and D\n",
        "\n",
        "# Bounds for each variable (assuming non-negativity)\n",
        "x0_bounds = (0, None)  # Product C cannot be negative\n",
        "x1_bounds = (0, None)  # Product D cannot be negative\n",
        "\n",
        "# Solve the problem using the 'highs' method\n",
        "res = linprog(c, A_ub=A, b_ub=b, bounds=[x0_bounds, x1_bounds], method='highs')\n",
        "\n",
        "print(\"Optimal cost:\", res.fun, \"with C and D:\", res.x)\n"
      ],
      "metadata": {
        "colab": {
          "base_uri": "https://localhost:8080/"
        },
        "id": "oiLwj3SQBNtr",
        "outputId": "cf306ca1-4dd4-49d2-9bb8-5c47657ae75a"
      },
      "execution_count": 22,
      "outputs": [
        {
          "output_type": "stream",
          "name": "stdout",
          "text": [
            "Optimal cost: 1550.0 with C and D: [20. 15.]\n"
          ]
        }
      ]
    },
    {
      "cell_type": "markdown",
      "source": [
        "# More Complicated stuff now!!!"
      ],
      "metadata": {
        "id": "eck3HkQRBxSV"
      }
    },
    {
      "cell_type": "markdown",
      "source": [
        "**Scenario**:\n",
        "Efficient Manufacturing of Electronic Devices\n",
        "Company\n",
        "\n",
        "**Overview**: You are managing a factory that manufactures five different types of electronic devices. Each device has different production costs and material requirements.\n",
        "\n",
        "**Products**:\n",
        "\n",
        "Product 1: Basic Calculator\n",
        "\n",
        "Product 2: Scientific Calculator\n",
        "\n",
        "Product 3: Alarm Clock\n",
        "\n",
        "Product 4: Basic Radio\n",
        "\n",
        "Product 5: Portable Speaker\n",
        "\n",
        "***************\n",
        "**Objective**: Minimize the total production cost of these devices.\n",
        "\n",
        "**Costs**:\n",
        "\n",
        "Basic Calculator: $20 per unit\n",
        "\n",
        "Scientific Calculator: $25 per unit\n",
        "\n",
        "Alarm Clock: $30 per unit\n",
        "\n",
        "Basic Radio: $35 per unit\n",
        "\n",
        "Portable Speaker: $40 per unit\n",
        "\n",
        "**************\n",
        "**Material Constraints**:\n",
        "\n",
        "Material X (Plastic): Used in the casing for all products.\n",
        "\n",
        "Material Y (Electronic Components): Used for the internal mechanisms.\n",
        "\n",
        "Material Z (Batteries): Used in products that require a power source.\n",
        "\n",
        "*************\n",
        "**Material Availability**:\n",
        "\n",
        "100 units of Plastic\n",
        "\n",
        "85 units of Electronic Components\n",
        "\n",
        "90 units of Batteries\n",
        "\n",
        "\n",
        "Material Usage per Product (represented in rows for each material and columns for each product in the matrix\n",
        "𝐴\n",
        "A):\n",
        "\n",
        "**Plastic**:\n",
        "\n",
        "Basic Calculator: 2 units\n",
        "\n",
        "Scientific Calculator: 1 unit\n",
        "\n",
        "Alarm Clock: 3 units\n",
        "\n",
        "Basic Radio: 2 units\n",
        "\n",
        "Portable Speaker: 1 unit\n",
        "\n",
        "**Electronic Components**:\n",
        "\n",
        "Basic Calculator: 1 unit\n",
        "\n",
        "Scientific Calculator: 1 unit\n",
        "\n",
        "Alarm Clock: 2 units\n",
        "\n",
        "Basic Radio: 1 unit\n",
        "\n",
        "Portable Speaker: 2 units\n",
        "\n",
        "**Batteries**:\n",
        "\n",
        "Basic Calculator: 0 units (does not use batteries)\n",
        "\n",
        "Scientific Calculator: 1 unit\n",
        "\n",
        "Alarm Clock: 1 unit\n",
        "\n",
        "Basic Radio: 3 units\n",
        "\n",
        "Portable Speaker: 2 units"
      ],
      "metadata": {
        "id": "8R7Zg1fPB2Jg"
      }
    },
    {
      "cell_type": "code",
      "source": [
        "from scipy.optimize import linprog\n",
        "\n",
        "# Objective function coefficients (costs for five products)\n",
        "c = [20, 25, 30, 35, 40]\n",
        "\n",
        "# Inequality constraint matrix (each row represents a material constraint, each column a product)\n",
        "A = [\n",
        "    [2, 1, 3, 2, 1],  # Material 1 Plastic constraints for Products 1-5\n",
        "    [1, 1, 2, 1, 2],  # Material 2 Electronics constraints for Products 1-5\n",
        "    [0, 1, 1, 3, 2]   # Material 3 Batteries constraints for Products 1-5\n",
        "]\n",
        "\n",
        "# Right-hand side of the inequality constraints (available amounts of each material)\n",
        "b = [100, 85, 90]\n",
        "\n",
        "# Bounds for each variable (assuming non-negativity)\n",
        "bounds = [(0, None) for _ in range(5)]  # Applying the same bounds to all products\n",
        "\n",
        "# Solve the problem\n",
        "res = linprog(c, A_ub=A, b_ub=b, bounds=bounds, method='highs')\n",
        "\n",
        "print(\"Optimal cost:\", res.fun, \"with production levels:\", res.x)\n"
      ],
      "metadata": {
        "colab": {
          "base_uri": "https://localhost:8080/"
        },
        "id": "s9cZBq5sDRgV",
        "outputId": "9981f110-8eef-4b7e-fb2a-89c2b6eb03d9"
      },
      "execution_count": 23,
      "outputs": [
        {
          "output_type": "stream",
          "name": "stdout",
          "text": [
            "Optimal cost: 0.0 with production levels: [0. 0. 0. 0. 0.]\n"
          ]
        }
      ]
    },
    {
      "cell_type": "markdown",
      "source": [
        "Above scenario may possible be unsolvable due to over restrictive constraints. we shall see..."
      ],
      "metadata": {
        "id": "qsXbb2VHDzuq"
      }
    }
  ]
}